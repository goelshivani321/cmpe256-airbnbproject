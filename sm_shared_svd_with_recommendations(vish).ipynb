{
 "cells": [
  {
   "cell_type": "code",
   "execution_count": 90,
   "metadata": {},
   "outputs": [],
   "source": [
    "import pandas as pd\n",
    "import numpy as np\n",
    "from surprise.model_selection import KFold\n",
    "import json"
   ]
  },
  {
   "cell_type": "markdown",
   "metadata": {},
   "source": [
    "## Obtain Data"
   ]
  },
  {
   "cell_type": "code",
   "execution_count": 22,
   "metadata": {},
   "outputs": [],
   "source": [
    "reviews_df = pd.read_csv('shared_final_prediction_file.csv')"
   ]
  },
  {
   "cell_type": "code",
   "execution_count": 78,
   "metadata": {},
   "outputs": [
    {
     "data": {
      "text/html": [
       "<div>\n",
       "<style scoped>\n",
       "    .dataframe tbody tr th:only-of-type {\n",
       "        vertical-align: middle;\n",
       "    }\n",
       "\n",
       "    .dataframe tbody tr th {\n",
       "        vertical-align: top;\n",
       "    }\n",
       "\n",
       "    .dataframe thead th {\n",
       "        text-align: right;\n",
       "    }\n",
       "</style>\n",
       "<table border=\"1\" class=\"dataframe\">\n",
       "  <thead>\n",
       "    <tr style=\"text-align: right;\">\n",
       "      <th></th>\n",
       "      <th>rowid</th>\n",
       "      <th>listing_id</th>\n",
       "      <th>reviewer_id</th>\n",
       "      <th>polarity</th>\n",
       "    </tr>\n",
       "  </thead>\n",
       "  <tbody>\n",
       "    <tr>\n",
       "      <th>count</th>\n",
       "      <td>1.053172e+06</td>\n",
       "      <td>1.053172e+06</td>\n",
       "      <td>1.053172e+06</td>\n",
       "      <td>1.053172e+06</td>\n",
       "    </tr>\n",
       "    <tr>\n",
       "      <th>mean</th>\n",
       "      <td>5.265855e+05</td>\n",
       "      <td>1.131222e+07</td>\n",
       "      <td>6.676650e+07</td>\n",
       "      <td>8.133919e-01</td>\n",
       "    </tr>\n",
       "    <tr>\n",
       "      <th>std</th>\n",
       "      <td>3.040247e+05</td>\n",
       "      <td>8.636989e+06</td>\n",
       "      <td>6.249576e+07</td>\n",
       "      <td>2.722260e-01</td>\n",
       "    </tr>\n",
       "    <tr>\n",
       "      <th>min</th>\n",
       "      <td>0.000000e+00</td>\n",
       "      <td>2.539000e+03</td>\n",
       "      <td>1.000000e+00</td>\n",
       "      <td>-1.000000e+00</td>\n",
       "    </tr>\n",
       "    <tr>\n",
       "      <th>25%</th>\n",
       "      <td>2.632928e+05</td>\n",
       "      <td>3.394964e+06</td>\n",
       "      <td>1.503578e+07</td>\n",
       "      <td>7.906000e-01</td>\n",
       "    </tr>\n",
       "    <tr>\n",
       "      <th>50%</th>\n",
       "      <td>5.265855e+05</td>\n",
       "      <td>1.005259e+07</td>\n",
       "      <td>4.500549e+07</td>\n",
       "      <td>9.215000e-01</td>\n",
       "    </tr>\n",
       "    <tr>\n",
       "      <th>75%</th>\n",
       "      <td>7.898782e+05</td>\n",
       "      <td>1.839986e+07</td>\n",
       "      <td>1.069479e+08</td>\n",
       "      <td>9.666667e-01</td>\n",
       "    </tr>\n",
       "    <tr>\n",
       "      <th>max</th>\n",
       "      <td>1.053171e+06</td>\n",
       "      <td>3.277125e+07</td>\n",
       "      <td>2.470066e+08</td>\n",
       "      <td>1.000000e+00</td>\n",
       "    </tr>\n",
       "  </tbody>\n",
       "</table>\n",
       "</div>"
      ],
      "text/plain": [
       "              rowid    listing_id   reviewer_id      polarity\n",
       "count  1.053172e+06  1.053172e+06  1.053172e+06  1.053172e+06\n",
       "mean   5.265855e+05  1.131222e+07  6.676650e+07  8.133919e-01\n",
       "std    3.040247e+05  8.636989e+06  6.249576e+07  2.722260e-01\n",
       "min    0.000000e+00  2.539000e+03  1.000000e+00 -1.000000e+00\n",
       "25%    2.632928e+05  3.394964e+06  1.503578e+07  7.906000e-01\n",
       "50%    5.265855e+05  1.005259e+07  4.500549e+07  9.215000e-01\n",
       "75%    7.898782e+05  1.839986e+07  1.069479e+08  9.666667e-01\n",
       "max    1.053171e+06  3.277125e+07  2.470066e+08  1.000000e+00"
      ]
     },
     "execution_count": 78,
     "metadata": {},
     "output_type": "execute_result"
    }
   ],
   "source": [
    "reviews_df.describe()"
   ]
  },
  {
   "cell_type": "code",
   "execution_count": 24,
   "metadata": {},
   "outputs": [
    {
     "data": {
      "text/plain": [
       "(1053172, 4)"
      ]
     },
     "execution_count": 24,
     "metadata": {},
     "output_type": "execute_result"
    }
   ],
   "source": [
    "reviews_df.shape"
   ]
  },
  {
   "cell_type": "code",
   "execution_count": 25,
   "metadata": {},
   "outputs": [
    {
     "data": {
      "text/plain": [
       "count    1.053172e+06\n",
       "mean     8.133919e-01\n",
       "std      2.722260e-01\n",
       "min     -1.000000e+00\n",
       "25%      7.906000e-01\n",
       "50%      9.215000e-01\n",
       "75%      9.666667e-01\n",
       "max      1.000000e+00\n",
       "Name: polarity, dtype: float64"
      ]
     },
     "execution_count": 25,
     "metadata": {},
     "output_type": "execute_result"
    }
   ],
   "source": [
    "reviews_df.polarity.describe()"
   ]
  },
  {
   "cell_type": "code",
   "execution_count": 26,
   "metadata": {},
   "outputs": [],
   "source": [
    "from surprise import SVD, KNNBasic, Dataset, Reader, accuracy\n",
    "from surprise.model_selection import cross_validate, train_test_split"
   ]
  },
  {
   "cell_type": "code",
   "execution_count": 27,
   "metadata": {},
   "outputs": [],
   "source": [
    "reader = Reader(rating_scale=(-1,1))"
   ]
  },
  {
   "cell_type": "code",
   "execution_count": 28,
   "metadata": {},
   "outputs": [],
   "source": [
    "data = Dataset.load_from_df(reviews_df[['listing_id', 'reviewer_id', 'polarity']], reader)"
   ]
  },
  {
   "cell_type": "code",
   "execution_count": 36,
   "metadata": {},
   "outputs": [],
   "source": [
    "trainset, testset = train_test_split(data, test_size=.3)"
   ]
  },
  {
   "cell_type": "code",
   "execution_count": 37,
   "metadata": {},
   "outputs": [],
   "source": [
    "algo = SVD(n_factors=10, n_epochs=10)"
   ]
  },
  {
   "cell_type": "code",
   "execution_count": 38,
   "metadata": {},
   "outputs": [
    {
     "data": {
      "text/plain": [
       "<surprise.prediction_algorithms.matrix_factorization.SVD at 0x10d056b70>"
      ]
     },
     "execution_count": 38,
     "metadata": {},
     "output_type": "execute_result"
    }
   ],
   "source": [
    "# Train the algorithm on the trainset, and predict ratings for the testset\n",
    "algo.fit(trainset)"
   ]
  },
  {
   "cell_type": "code",
   "execution_count": 39,
   "metadata": {},
   "outputs": [],
   "source": [
    "predictions = algo.test(testset)"
   ]
  },
  {
   "cell_type": "code",
   "execution_count": 40,
   "metadata": {},
   "outputs": [
    {
     "name": "stdout",
     "output_type": "stream",
     "text": [
      "RMSE: 0.2659\n"
     ]
    },
    {
     "data": {
      "text/plain": [
       "0.26592393666752945"
      ]
     },
     "execution_count": 40,
     "metadata": {},
     "output_type": "execute_result"
    }
   ],
   "source": [
    "accuracy.rmse(predictions, verbose=True)"
   ]
  },
  {
   "cell_type": "code",
   "execution_count": 43,
   "metadata": {},
   "outputs": [
    {
     "name": "stdout",
     "output_type": "stream",
     "text": [
      "RMSE: 0.2661\n"
     ]
    },
    {
     "data": {
      "text/plain": [
       "0.2660984221479662"
      ]
     },
     "execution_count": 43,
     "metadata": {},
     "output_type": "execute_result"
    }
   ],
   "source": [
    "# Then compute RMSE\n",
    "accuracy.rmse(predictions)"
   ]
  },
  {
   "cell_type": "code",
   "execution_count": 44,
   "metadata": {},
   "outputs": [],
   "source": [
    "p = predictions[0]"
   ]
  },
  {
   "cell_type": "code",
   "execution_count": 45,
   "metadata": {},
   "outputs": [
    {
     "data": {
      "text/plain": [
       "Prediction(uid=21065293, iid=20810098, r_ui=0.7424, est=0.7428243756684929, details={'was_impossible': False})"
      ]
     },
     "execution_count": 45,
     "metadata": {},
     "output_type": "execute_result"
    }
   ],
   "source": [
    "p"
   ]
  },
  {
   "cell_type": "code",
   "execution_count": 48,
   "metadata": {},
   "outputs": [],
   "source": [
    "output_file = open(\"/Users/vishu/SJSU/cmpe256/AirbnbProject/cmpe256-airbnbproject/svd_predictions.csv\", \"w\")\n",
    "output_file.write(\"userid,itemid,rating\\n\".format(user,item,rating ))\n",
    "\n",
    "for i in range(0, len(predictions)):\n",
    "    pred_tup = predictions[i]\n",
    "    user = pred_tup[0]\n",
    "    item = pred_tup[1]\n",
    "    rating = pred_tup[3]\n",
    "    output_file.write(\"{},{},{}\\n\".format(user,item,rating ))\n",
    "\n",
    "output_file.close()"
   ]
  },
  {
   "cell_type": "markdown",
   "metadata": {},
   "source": [
    "### Using SVDpp"
   ]
  },
  {
   "cell_type": "code",
   "execution_count": 13,
   "metadata": {},
   "outputs": [],
   "source": [
    "from surprise import SVDpp"
   ]
  },
  {
   "cell_type": "code",
   "execution_count": 15,
   "metadata": {},
   "outputs": [],
   "source": [
    "#SVD Matrix Factorization\n",
    "algo = SVDpp(n_factors=10,n_epochs=10)\n",
    "algo.fit(trainset)\n",
    "predictions_svd = algo.test(testset)"
   ]
  },
  {
   "cell_type": "code",
   "execution_count": 16,
   "metadata": {},
   "outputs": [
    {
     "name": "stdout",
     "output_type": "stream",
     "text": [
      "RMSE: 0.2669\n"
     ]
    },
    {
     "data": {
      "text/plain": [
       "0.26688308324524357"
      ]
     },
     "execution_count": 16,
     "metadata": {},
     "output_type": "execute_result"
    }
   ],
   "source": [
    "accuracy.rmse(predictions_svd)"
   ]
  },
  {
   "cell_type": "markdown",
   "metadata": {},
   "source": [
    "### Knn"
   ]
  },
  {
   "cell_type": "code",
   "execution_count": 12,
   "metadata": {
    "colab": {},
    "colab_type": "code",
    "id": "ge9eTEMuHgpk"
   },
   "outputs": [],
   "source": [
    "#lets configure some parameters for Collaborative Filtering Algo\n",
    "sim_options = {\n",
    "    'name': 'pearson', #similarity measure\n",
    "    'user_based': False #item based\n",
    "}\n",
    "#For user based ->True\n",
    "#For name ->pearson,cosine,msd,pearson_baseline\n"
   ]
  },
  {
   "cell_type": "code",
   "execution_count": null,
   "metadata": {
    "colab": {},
    "colab_type": "code",
    "collapsed": true,
    "id": "9Nj19Vz2oHNb"
   },
   "outputs": [],
   "source": [
    "#this is baseline configuration for optimizing the error\n",
    "bsl_options = {'method': 'als',#another option is sgd\n",
    "               'n_epochs': 5, # number of iterations\n",
    "               'reg_u': 12, # user-regularisation parameter\n",
    "               'reg_i': 5   # item-regularisation parameter\n",
    "               }"
   ]
  },
  {
   "cell_type": "markdown",
   "metadata": {
    "colab_type": "text",
    "id": "GGG1vxslh0k_"
   },
   "source": [
    "We will try KNN with maximum neighbour as 3 and minimum as 1.We train our model on trainingset and generate prediction on test set."
   ]
  },
  {
   "cell_type": "code",
   "execution_count": 13,
   "metadata": {
    "colab": {
     "base_uri": "https://localhost:8080/",
     "height": 54
    },
    "colab_type": "code",
    "id": "7McNpEyJIWiV",
    "outputId": "aa0616e1-db67-4ab3-abe4-ac83646045af"
   },
   "outputs": [],
   "source": [
    "#KNN\n",
    "knn = KNNBasic(sim_options=sim_options,k=3,min_k=1) #neighbours=3\n"
   ]
  },
  {
   "cell_type": "code",
   "execution_count": null,
   "metadata": {},
   "outputs": [
    {
     "name": "stdout",
     "output_type": "stream",
     "text": [
      "Computing the pearson similarity matrix...\n"
     ]
    }
   ],
   "source": [
    "knn.fit(trainset)\n"
   ]
  },
  {
   "cell_type": "code",
   "execution_count": null,
   "metadata": {},
   "outputs": [],
   "source": [
    "predictions_knn = knn.test(testset)"
   ]
  },
  {
   "cell_type": "markdown",
   "metadata": {},
   "source": [
    "## Predicting top 10 recomendations"
   ]
  },
  {
   "cell_type": "code",
   "execution_count": 79,
   "metadata": {},
   "outputs": [],
   "source": [
    "from collections import defaultdict\n",
    " \n",
    "def get_top10_recommendations(predictions, topN = 10):\n",
    "     \n",
    "    top_recs = defaultdict(list)\n",
    "    for uid, iid, true_r, est, _ in predictions:\n",
    "        top_recs[uid].append((iid, est))\n",
    "     \n",
    "    for uid, user_ratings in top_recs.items():\n",
    "        user_ratings.sort(key = lambda x: x[1], reverse = True)\n",
    "        top_recs[uid] = user_ratings[:topN]\n",
    "     \n",
    "    return top_recs"
   ]
  },
  {
   "cell_type": "code",
   "execution_count": 80,
   "metadata": {},
   "outputs": [],
   "source": [
    "top10_recommendations = get_top10_recommendations(predictions)"
   ]
  },
  {
   "cell_type": "code",
   "execution_count": 92,
   "metadata": {},
   "outputs": [],
   "source": [
    "# For each user we print top 10 recommendations\n",
    "final_reco = dict()\n",
    "\n",
    "for uid, user_ratings in top10_recommendations.items():\n",
    "    final_reco[uid] = [iid for (iid, _) in user_ratings]\n",
    "    \n",
    "with open('svd_user_recommendations.json', 'w') as fp:\n",
    "    json.dump(final_reco, fp)\n",
    "\n",
    "fp.close()"
   ]
  },
  {
   "cell_type": "code",
   "execution_count": null,
   "metadata": {},
   "outputs": [],
   "source": []
  }
 ],
 "metadata": {
  "kernelspec": {
   "display_name": "Python 3",
   "language": "python",
   "name": "python3"
  },
  "language_info": {
   "codemirror_mode": {
    "name": "ipython",
    "version": 3
   },
   "file_extension": ".py",
   "mimetype": "text/x-python",
   "name": "python",
   "nbconvert_exporter": "python",
   "pygments_lexer": "ipython3",
   "version": "3.7.1"
  }
 },
 "nbformat": 4,
 "nbformat_minor": 2
}
